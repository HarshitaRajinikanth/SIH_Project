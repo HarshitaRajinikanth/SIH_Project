{
  "cells": [
    {
      "cell_type": "code",
      "execution_count": 2,
      "metadata": {
        "colab": {
          "base_uri": "https://localhost:8080/"
        },
        "id": "6QPbO1UJG73k",
        "outputId": "5cc89371-6a82-417c-99a9-a74572305ed1"
      },
      "outputs": [
        {
          "output_type": "stream",
          "name": "stdout",
          "text": [
            "  Installing build dependencies ... \u001b[?25l\u001b[?25hdone\n",
            "  Getting requirements to build wheel ... \u001b[?25l\u001b[?25hdone\n",
            "  Preparing metadata (pyproject.toml) ... \u001b[?25l\u001b[?25hdone\n",
            "\u001b[2K     \u001b[90m━━━━━━━━━━━━━━━━━━━━━━━━━━━━━━━━━━━━━━━━\u001b[0m \u001b[32m1.7/1.7 MB\u001b[0m \u001b[31m17.0 MB/s\u001b[0m eta \u001b[36m0:00:00\u001b[0m\n",
            "\u001b[?25h  Building wheel for openai-whisper (pyproject.toml) ... \u001b[?25l\u001b[?25hdone\n"
          ]
        }
      ],
      "source": [
        "!pip -qqq install git+https://github.com/openai/whisper.git"
      ]
    },
    {
      "cell_type": "code",
      "execution_count": 15,
      "metadata": {
        "colab": {
          "base_uri": "https://localhost:8080/"
        },
        "id": "qaKevemfHA_m",
        "outputId": "19579d4b-bcb7-49dd-f4ce-c0bda02ec49b"
      },
      "outputs": [
        {
          "output_type": "stream",
          "name": "stderr",
          "text": [
            "100%|████████████████████████████████████████| 461M/461M [00:03<00:00, 125MiB/s]\n"
          ]
        }
      ],
      "source": [
        "# Import the libraries\n",
        "import whisper\n",
        "import torch\n",
        "import os\n",
        "\n",
        "# Set the device\n",
        "device = \"cuda\" if torch.cuda.is_available() else \"cpu\"\n",
        "\n",
        "# Load the model\n",
        "whisper_model = whisper.load_model(\"small\", device=device)"
      ]
    },
    {
      "cell_type": "code",
      "execution_count": 16,
      "metadata": {
        "id": "Jqmdm9lSHGZe"
      },
      "outputs": [],
      "source": [
        "# Install the library\n",
        "!pip -qqq install pytube\n",
        "\n",
        "# import the module\n",
        "from pytube import YouTube"
      ]
    },
    {
      "cell_type": "code",
      "execution_count": 17,
      "metadata": {
        "id": "-CoIkzZAHP4n"
      },
      "outputs": [],
      "source": [
        "def video_to_audio(video_URL, destination, final_filename):\n",
        "\n",
        "  # Get the video\n",
        "  video = YouTube(video_URL)\n",
        "\n",
        "  # Convert video to Audio\n",
        "  audio = video.streams.filter(only_audio=True).first()\n",
        "\n",
        "  # Save to destination\n",
        "  output = audio.download(output_path = destination)\n",
        "\n",
        "  _, ext = os.path.splitext(output)\n",
        "  new_file = final_filename + '.mp3'\n",
        "\n",
        "  # Change the name of the file\n",
        "  os.rename(output, new_file)\n",
        "\n",
        "# Video to audio\n",
        "video_URL = 'https://youtu.be/XALBGkjkUPQ?si=b3KrC2dSE7kaDcBT'  # 1 min video\n",
        "destination = \".\"\n",
        "final_filename = \"motivational_speech\"\n",
        "video_to_audio(video_URL, destination, final_filename)"
      ]
    },
    {
      "cell_type": "code",
      "source": [
        "def video_to_audio(video_URL, destination, final_filename):\n",
        "\n",
        "  # Get the video\n",
        "  video = YouTube(video_URL)\n",
        "\n",
        "  # Convert video to Audio\n",
        "  audio = video.streams.filter(only_audio=True).first()\n",
        "\n",
        "  # Save to destination\n",
        "  output = audio.download(output_path = destination)\n",
        "\n",
        "  _, ext = os.path.splitext(output)\n",
        "  new_file = final_filename + '.mp3'\n",
        "\n",
        "  # Change the name of the file\n",
        "  os.rename(output, new_file)\n",
        "\n",
        "# Video to audio\n",
        "video_URL = 'https://youtu.be/0aqiPyTJv8E?si=6tqDUfPbHrX1vnht'  # 3 min video\n",
        "destination = \".\"\n",
        "final_filename = \"motivational_speech\"\n",
        "video_to_audio(video_URL, destination, final_filename)"
      ],
      "metadata": {
        "id": "70yyvXb1GDSr"
      },
      "execution_count": 20,
      "outputs": []
    },
    {
      "cell_type": "code",
      "source": [
        "def video_to_audio(video_URL, destination, final_filename):\n",
        "\n",
        "  # Get the video\n",
        "  video = YouTube(video_URL)\n",
        "\n",
        "  # Convert video to Audio\n",
        "  audio = video.streams.filter(only_audio=True).first()\n",
        "\n",
        "  # Save to destination\n",
        "  output = audio.download(output_path = destination)\n",
        "\n",
        "  _, ext = os.path.splitext(output)\n",
        "  new_file = final_filename + '.mp3'\n",
        "\n",
        "  # Change the name of the file\n",
        "  os.rename(output, new_file)\n",
        "\n",
        "# Video to audio\n",
        "video_URL = 'https://youtu.be/9GAo2my1f2U?si=FNiaFPmjEDrqhyZx'  # 5 min video\n",
        "destination = \".\"\n",
        "final_filename = \"motivational_speech\"\n",
        "video_to_audio(video_URL, destination, final_filename)"
      ],
      "metadata": {
        "id": "EZxsfK6DIyz4"
      },
      "execution_count": 23,
      "outputs": []
    },
    {
      "cell_type": "code",
      "source": [
        "def video_to_audio(video_URL, destination, final_filename):\n",
        "\n",
        "  # Get the video\n",
        "  video = YouTube(video_URL)\n",
        "\n",
        "  # Convert video to Audio\n",
        "  audio = video.streams.filter(only_audio=True).first()\n",
        "\n",
        "  # Save to destination\n",
        "  output = audio.download(output_path = destination)\n",
        "\n",
        "  _, ext = os.path.splitext(output)\n",
        "  new_file = final_filename + '.mp3'\n",
        "\n",
        "  # Change the name of the file\n",
        "  os.rename(output, new_file)\n",
        "\n",
        "# Video to audio\n",
        "video_URL = 'https://youtu.be/-3_BB-NiPN4?si=HKXCWhl8ztE4eozH'  # 10 min video\n",
        "destination = \".\"\n",
        "final_filename = \"motivational_speech\"\n",
        "video_to_audio(video_URL, destination, final_filename)"
      ],
      "metadata": {
        "id": "erC50TM1Qp4b"
      },
      "execution_count": 27,
      "outputs": []
    },
    {
      "cell_type": "code",
      "source": [
        "def video_to_audio(video_URL, destination, final_filename):\n",
        "\n",
        "  # Get the video\n",
        "  video = YouTube(video_URL)\n",
        "\n",
        "  # Convert video to Audio\n",
        "  audio = video.streams.filter(only_audio=True).first()\n",
        "\n",
        "  # Save to destination\n",
        "  output = audio.download(output_path = destination)\n",
        "\n",
        "  _, ext = os.path.splitext(output)\n",
        "  new_file = final_filename + '.mp3'\n",
        "\n",
        "  # Change the name of the file\n",
        "  os.rename(output, new_file)\n",
        "\n",
        "# Video to audio\n",
        "video_URL = 'https://youtu.be/8Knn65nTO7o?si=wrJJS7CKuYpUNbyi'  # tamil video\n",
        "destination = \".\"\n",
        "final_filename = \"motivational_speech\"\n",
        "video_to_audio(video_URL, destination, final_filename)"
      ],
      "metadata": {
        "id": "GeOIC5sAYA0h"
      },
      "execution_count": 31,
      "outputs": []
    },
    {
      "cell_type": "code",
      "execution_count": 32,
      "metadata": {
        "id": "p7oYkxVHHtSf"
      },
      "outputs": [],
      "source": [
        "audio_file = \"motivational_speech.mp3\"\n",
        "result = whisper_model.transcribe(audio_file)"
      ]
    },
    {
      "cell_type": "code",
      "source": [
        "print(result[\"text\"])"
      ],
      "metadata": {
        "id": "dEAyWjibYIeH",
        "outputId": "97ce99b1-e5b1-4779-ddd6-a4248773c172",
        "colab": {
          "base_uri": "https://localhost:8080/"
        }
      },
      "execution_count": 33,
      "outputs": [
        {
          "output_type": "stream",
          "name": "stdout",
          "text": [
            " சகபச்ச aprender கரண்ட்டக்கா தொடர்ந்து தண்ணீர்த்தரம் மறுப்பது குறைத்து முறையிட தமிழக்காரச் முடிவு காவிரி வழக்கை இன்று வசாரணைக்க வரும் நிலையில் ஊச்சனியிரி மன்றுத்தில் கரண்ட்டகாரச் அவசரமனும் தமிழக்கத்திருக்க தண்ணீர்த்திறக் காவிரி மேலாண்மை ஆணையம் பிறப்பிற்புத்த உத்தரவக்க தடைவுதிக்க கொறிக்க. காவிரி உடங்காட்டுக்குடு ஒரு தலைபட்டிமாக செயல்படுவதால் ஊச்சனியிதிமன்றம் சென்றுள்ளோ, காவிரி உடங்காடத்தில் ஊச்சனியிதிமன்றதையே நம்பி உள்ளதாக, அமைத்திர் திரை முழுக்க. முதனிலை மறுத்துவப்படிப்பு செயல் மாதிரியில் அழுதினாலே கலந்தாய்வில் பங்கிருக்கலாமின் அறுவிப்பு. 0 மதிப்பென் தகுதி மூலம் நீட் வுவகாரத்தில் மத்திரச்சின் சூழ்ச்சி அம்பலமாக்கிவிடுது மதிப்பென்னே தேவையில்லாத முதினிலை நீட் தேருவு எதறக்கு என் அமைச்சர உதையனதிக் கேள்வி. சென்னைச் செங்கள் பட்டு காஞ்சிப்புரம் திருவள் ஓர் மாவட்டங்களில் முதலமைச்சர மோக்கச்ச்ச்ச்ச்ச்ச்ச்ச்ச்ச்ச்ச்ச்ச்ச்ச்ச்ச்ச்ச்ச்ச்ச்ச்ச்ச்ச்ச்ச்ச்ச்ச்ச்ச்ச்ச்ச்ச்ச்ச்ச்ச்ச்ச்ச்ச்ச்ச்ச்ச்ச்ச்ச்ச்ச்ச்ச்ச்ச்ச்ச்ச்ச்ச்ச்ச்ச்ச்ச்ச்ச்ச்ச்ச்ச் நீலக்றிக் கோவை தேனி திண்டுகள் உளிட்ட 90 மாவட்டங்களில் 5 கனமடைக்கு வாய்ப்ப, தமழகத்தைத் திருபத்து ஆரம்த் தேதி வரை மடைந்து தொடரும் எனவானில் ஐய்ப்மையம் தகவல். மகலிருக்கான முப்பத்து முயண்டு சத்தவக்குதாய்gram-thiyன் மசோதா மக்கலவையில் நிறைவேச்சம் புதிய நாடலமண்டு கட்டிடத்தில் நிறைவேச்சப்பட்ட முதல் மசோதா மக்கலவையைத் தொடர்ந்து மாணிலங்களை வையல் மக்கலிர் இடுவதுக்கிட மசோதா என்று தாக்குள் உருப்பினர்களின் வுவாதத்திருக்கப்பின் மசோதாவை நிறைவேசி சட்டமாக்க நடவு அடிக்கை மக்கலிர் இடren துச்சம் சுறப்பம் என்றpr Wolf மக்கலவையில் மக்கிலிர் இடreiben வாக்கலித்த � acompañ்கள் compatible நஜீ புதுத்திறிலில் பழ் வேறு அரச희 குறைகளில் 622 பணிகள் 28 போசு கீழ் உட்பைமரைக் கேடு இந்திய திடைக்கைத் துறை Gymniri நாடலும் மந்து சட்ட மந்து ஒருப்பினர்கள்க்கான சட்ட பாதுகாப்பு வவகாரம் ஆயிரத்து தொலையிரத்துக் கட்டாம் ஆண்டு தீர்ப்பை மரு ஆயுசைய உச்சனிதி மந்தும் உத்தரவேன் உச்சனிதி மந்தும் திருதல ஆணையில் முள்ளிட்டானை தமைப்புகளுக்கும் நிறுக்கடி ஜனனாயகம் சமூகனிதிக்கான நிறுகடியை அரசியல் ரீதியாகத் தடுப்போம் என மோக்கச் ச்டாலின் சூலுறை முதலமையிட்டார் மோக்கச் ச்டாலின் தென்னந்தியாவின் முக்கிய தலைவராகத்துக் கிடுக்கிறார் ஜனனாயகம் சமூகனிதியை விர்த்திப் பிடிப்பதாகக் கமல் ஹாசன் புகடார். ராஜ்மூப்கலுவதுmon drei ஐசின் அரசின் குடியில் டானச்முழல் விர்த்திற்கு Modern sailor 3 விர்பத்திப் பிடியாட்சாக இருக்கிறார். மிகத்து விரனிதியுகண்டைям் புரிக்கச் சிறித்த któரு சாரணம் ஌ தவறு தவறும் டானச்மீகி. அர்த்துரையில் திட்ட வரிவாகப் பணிகள்க்கான சாத்தியக் கூரு அறிக்கை வடித்தடத்தை நீட்டிப்பதற்கான சாத்தியக் கூரு அறிக்கை தமிழாகரசிடம் சமர்ப்பிப்பு. ஆசியை விளையாட்டு போட்டி மகலிர் கிரிக்கட் காலுவதி ஆட்டம் எந்தியா மலேஷயானிகள் இன்று காலைப் பல பரிச்சை.\n"
          ]
        }
      ]
    },
    {
      "cell_type": "code",
      "source": [
        "print(result[\"text\"])"
      ],
      "metadata": {
        "id": "t06zvF5BRRWv",
        "outputId": "6f1cf5e4-68d5-447b-e1e7-cd83b76f2e18",
        "colab": {
          "base_uri": "https://localhost:8080/"
        }
      },
      "execution_count": 29,
      "outputs": [
        {
          "output_type": "stream",
          "name": "stdout",
          "text": [
            " In May 2019, the United States officially announced sanctions on China's semiconductor industry. However, after four years of semiconductor war, the United States and its many allies did not achieve complete victory. Instead, they lost the huge export market of China. As sanctions continue, some companies that once sanctioned China's semiconductor industry are now suffering losses of more than $280 billion. Now, many semiconductor companies are no longer willing to serve as a scapegoat for the United States to suppress China, and have begun to continue exporting semiconductor products to China. In particular, ASML, the Dutch lithography machine giant, announced that it will continue to export lithography machines to China. In addition to the Netherlands, some companies from the United States and South Korea also hope to re-enter the Chinese market. So why have these companies that once resolutely sanctioned China begun to change their attitudes? Will China continue to import a large amount of their chips in the future? Thank you for watching the video, why not subscribe to Asian Topic, let's discover more exciting projects in the world together. In the lithography machine industry, the Dutch company ASML is known as one of the world's leading manufacturers. Over the past few years, ASML has played a key role in China's semiconductor industry, earning approximately $26 billion in annual revenue from the Chinese market. However, affected by US policies, ASML recently made the decision to no longer provide photolithography equipment to China, which has brought some challenges to the further development of China's semiconductor industry. However, after several years of sanctions, the Dutch company ASML lost the important market of China. This decision directly caused the company to suffer cumulative losses of up to US$80 billion. The actual situation also shows that the Netherlands seems to have become the scapegoat for the US government to suppress China. However, in order to regain opportunities in the Chinese market, ASML recently submitted an important application to the Dutch government, hoping to continue exporting lithography machines to China in order to regain China's huge market and rebuild cooperative relations. As far as I know, in addition to the Dutch company ASML, the United States and South Korea, which have been emphasizing stricter sanctions on China, seem to have also announced some measures to ease sanctions. Among them, the United States announced last month that it plans to continue to supply some low-end chips to China in the future, which shows that the United States sanctions attitude towards China has been eased to a certain extent. At the same time, South Korea has also expressed its willingness to return to the Chinese market, indicating that they hope to re-establish cooperative relations with China. So why are these companies that were so determined to sanction China now starting to change their attitude? Does this series of developments mean that sanctions against China are about to end? Judging from the current situation, the development momentum of China's semiconductor industry is no longer something that the United States can easily stop. In the first quarter of 2023, China reduced imports of 32.1 billion chips. This market gap is completely filled by China's domestic semiconductor production capacity. What is even more surprising is that in the past year, the total order volume of China's chip industry was only 97 billion units, and now in just three months, China's chip production has reached one-third of 2022 production. This data is enough to illustrate the rapid development of China's semiconductor industry. With the rise of China's semiconductor industry, many American companies have felt unprecedented competitive pressure. According to data from the American Semiconductor Association, in 2022, the United States will account for 48% of the global chip export market, ranking first in the world. However, what many people don't know is that about 40% of the chips exported by the United States to the world are sold to the Chinese market. China occupies a market share of 180 billion US dollars in the US chip export market, equivalent to approximately 1.3 trillion yuan. The US sanctions will completely deprive some US companies of the huge market in China, and micron is one of them. As far as I know, micron is one of the first companies to unite with the US government to suppress Chinese chips. However, micron's behavior also means that it will completely lose the huge market in China. Currently, micron's market share has dropped from 58% to 11%, and exports have decreased by at least 25 billion US dollars. However, micron is just one of many US semiconductor companies that have suffered losses. There are many semiconductor companies like micron in the United States that are suffering losses. In addition to some American companies, South Korea is also one of the victims of the chip war between China and the United States. South Korea's semiconductor industry has always been a pillar industry of the country, but since 2019, South Korea has followed the United States in imposing sanctions on China. However, during the four-year sanctions period, South Korea not only failed to benefit, but suffered huge losses. So, how serious are South Korea's losses? As the world's largest chip market, China once occupied about 60% of the global chip market. Just before 2019, China purchased an average of more than 400 billion US dollars in chips every year, becoming the largest buyer of South Korea's chip export market. However, due to South Korea's participation in US-led sanctions, South Korea's chip industry experienced a 13-month plunge in 2023, and South Korea's semiconductor industry was in serious trouble. In fact, this phenomenon can be seen from the performance data of Samsung Electronics and SK Hinnix. Samsung Electronics operating profit hit its lowest level in 14 years, a staggering 95.5% year-on-year decrease. SK Hinnix lost a huge US$25.6 billion in the first quarter. According to estimates by South Korean officials, if South Korea completely loses the Chinese market, South Korea will lose more than US$100 billion in the next year. What's even more worrying is that starting from June 2022, South Korea's semiconductor inventories have grown at the fastest rate in six years, soaring 79.8%, but chip production and exports have slowed down, mainly because their chips no more exports to China. In the future, if South Korea cannot re-enter the Chinese market in time, the chips it produces may be backlogged in warehouses because no one will buy them. Once the semiconductor industry of other countries gradually replaces South Korea's position, this may cause South Korea to lose China's huge market forever, which will be a huge blow to South Korea. However, in the past year, the situation in the chip war between China and the United States has changed significantly. The United States has announced that it will provide some low-end chips to China, and South Korea has also expressed its desire to re-enter the Chinese market. These moves clearly show some relief from sanctions on China, but the motivations behind them are mainly economic interests. In this context, will China accept their willingness to cooperate? Globally, the United States still imposes certain restrictions on the export of high-end chips, especially in areas involving technical sensitivity and security risks. The issue of sanctions involves complex political and economic factors and requires comprehensive consideration of various interests. Although the United States and South Korea may have adjusted their sanctions policies against China to a certain extent, they still maintain a certain degree of restrictions in the current economic context. However, I think it is unlikely that the international coalition led by the United States will fully lift sanctions on China in the next few years. And for China at present, China's huge semiconductor consumer market still cannot be satisfied by itself. Although China's semiconductor industry has developed rapidly in recent years, Chinese semiconductors still need to imitate and learn from foreign products and technologies. Now, these countries are gradually lifting restrictions on China. If China can continue to cooperate with these countries, the development of China's semiconductor industry technology will be more convenient than before. Therefore, although these countries have changed their attitudes towards China out of economic interests, this is very beneficial to the development of both parties. It should be noted that although this is beneficial to China's chip development, for the sake of longer-term interests, China will still not relax its vigilance against foreign sanctions. China will also continue to develop self-produced chips and develop its own lithography machines. In addition, China has also made adequate preparations and plans to deal with the risk of possible disruptions in the semiconductor supply chain in the future. Thanks for watching our video. If you find our content fascinating, be sure to subscribe to my channel. Let's embark on an incredible adventure and explore more exciting projects and events in the future.\n"
          ]
        }
      ]
    },
    {
      "cell_type": "code",
      "source": [
        "print(result[\"text\"])"
      ],
      "metadata": {
        "id": "iGZAwbo-O8NK",
        "outputId": "c98288a7-2a30-4850-96ab-3ec0340d5cfa",
        "colab": {
          "base_uri": "https://localhost:8080/"
        }
      },
      "execution_count": 26,
      "outputs": [
        {
          "output_type": "stream",
          "name": "stdout",
          "text": [
            " Justin Trudeau made his allegation on Monday. Since then, everyone is asking the same question. Why? Why make such a public spectacle? Why not handle the issue diplomatically? A recent opinion poll could have the answer. Canadians were asked to choose the next prime minister. Look at their response. 40% respondents picked Pierre Polyevre. 40%. 40%. He leads the Conservative Party. That's the main opposition in Canada. And how much did Trudeau get? 31%. Only three out of ten Canadians want Justin Trudeau to stick around. Number three is also a familiar face, Jagmeet Singh. He's a Khalistani. He received 22% of the vote. So the big takeaway is this. If elections were to be held today, Justin Trudeau would lose. The Conservative Party will form the government in Canada. And there's a message for Jagmeet Singh too. His support has slipped four points since September last year. So Trudeau is on shaky ground. His own popularity is plunging. And so is that of his Khalistani buddy. And this relationship is crucial to the story. You see, Trudeau leads a minority government. His party, the Liberals, do not have a majority in parliament. So how are they in power? Thanks to Jagmeet Singh. This party offers outside support to Trudeau, sort of like a kingmaker. And what does this kingmaker think of the allegations? The allegations against India. Listen to his statement. To all Canadians, this is my vow. I will leave no stone unturned in the pursuit of justice, including holding Narendra Modi accountable. That's what Jagmeet Singh has said. How about that? Zero proof? Zero credible information. And who does Jagmeet Singh blame? The Prime Minister of India. Not even diplomats or embassy staff. Straight to the Prime Minister. And this attitude betrays the intentions of Justin Trudeau and Jagmeet Singh. They're playing to the gallery. Sikhs make up 2.1% of Canada's population. I know it does not sound like very much, but their political clout is much more. And the reason for that is Canada's election system. Let me explain and listen to this carefully. Here in India, political parties pick candidates. They have high commands or election executives. They give the tickets. These bodies select the candidates who will contest an election. Canada has a different system. Many commentators call it pay to play. The Canadian system, pay to play. Let's assume you want to contest. You want to run in an election. Then you must mobilize voters from your party. They have to gather, submit a form and pay a fee. Only then will you be nominated. Who would you call for something like this? Maybe family or friends or colleagues. But what if you had an organized religious congregation, one where every family knows the other, one where every family is relatively well off? That's the Sikh community in Canada. And within that community, Khalistani's have an upper hand. You've seen their rallies and referendums. Clearly mobilization is not a problem for them. And this faulty system has poisoned Canadian politics. A minority within a minority has hijacked the narrative in Canada. And leaders like Justin Trudeau are playing along. Same within his own party. Some within, rather, his own party are calling him out. Like Chandra Arya. He's a Liberal Party lawmaker. He says terrorism cannot be glorified as free speech. Listen to what he said. I can't understand how glorification of terrorism or a hate crime targeting a religious group is allowed in the name of freedom of speech and expression. You heard him. That was Trudeau's own MP. And he's right. Most Canadian Sikhs do not support Khalistan. Only a tiny minority do. And Trudeau's support has emboldened this tiny minority. India gave him every opportunity to correct this mistake. British tell us that New Delhi submitted 26 extradition requests to Canada. 26 requests. How many did Canada prove? Zero. These are bona fide separatists and terrorists. There is evidence against them. It was presented to Canada, yet Canada shielded them. Maybe even weaponized them. We have learned from our sources that Hardeep Singh Nidjar was working for the Canadian intelligence. This is what Indian sources are telling us. That Nidjar could have been working for Canada if true, this is massive. Hardeep Nidjar was a designated terrorist. He was an enemy of India. Instead of cracking down on him, Canada may have weaponized him. Yet Trudeau blames India. He keeps talking about not provoking, but his actions suggest otherwise. On Monday, Canada expelled an Indian diplomat from their country. They revealed his name. They also revealed that he was a raw agent. Raw is the research and analysis wing. It is India's foreign intelligence agency. And this is a major escalation. Our sources say India trusted Canada with this information. We do that with friendly countries. We tell them who the intelligence officer is. This is supposed to be confidential information. But Canada went public with it. They blew the officer's cover. Again, why so much drama? This is a question for Justin Trudeau to answer. His actions make one thing clear, though. He's willing to stake everything on this fight. This is not about Canada or its people. This is about Trudeau's political future.\n"
          ]
        }
      ]
    },
    {
      "cell_type": "code",
      "source": [
        "print(result[\"text\"])"
      ],
      "metadata": {
        "id": "dIKHrUQpHSt4",
        "outputId": "90909b4b-f890-49da-ba01-0d9ef98585ba",
        "colab": {
          "base_uri": "https://localhost:8080/"
        }
      },
      "execution_count": 22,
      "outputs": [
        {
          "output_type": "stream",
          "name": "stdout",
          "text": [
            " In the punishing cold of an arctic mountain in the remote Svalbard Islands, a doorway leads to what's meant to be the safest place on earth. Good thing they've gridged the road there. Scientists are on their way, approaching through this isolated and hostile terrain. And I'm with them as they carry a precious cargo of seeds to be kept out of the way of whatever climate change might bring. I mean, how often do you get these deliveries? We have delivered it three times a year. The box of seeds is about to go through the first line of security. There are half a dozen in all. I've just come down the access tunnel that's cut into the mountain here. This place is 130 metres above sea level, because if the worst happens and global warming melts all of the polar ice caps, this project will still be safe. Okay, so this is the next stage. Deeper inside the mountain we go, the more the temperature drops. The store is designed to survive any natural disaster. The seeds can last here for a very long time. It depends on what crop it is, but some of the crops may survive for more than 4,000 years. You're really imagining this place functioning, keeping the seeds safe for 4,000 years? Well, it's difficult to say. I'm sure that the pharaohs thought that their pyramids would last long, and they did. The last barrier to the store itself. Okay, here we go. Inside here, it's minus 18 Celsius. The rows of shelves are filling up with seeds from all over the world. There are samples of nearly half of the most important food crops, brought here just in case. Samples of seeds used to be held in glass test tubes. Now they're kept in little plastic packets, and there are more than 800,000 of these in this vault. And everywhere you look, there are examples of why this place matters. There are seeds from Syria, plants that are good at coping with drought, and some have just been returned to the Middle East. When harvests are ruined by extremes of weather, having backup copies of key seeds is essential. Another threat is flooding, which can damage national stores of seeds. This happened in the Philippines. And with industrial scale farming, most food comes from just a dozen varieties of plants. So keeping different genetic types helps to guarantee supplies. It is for the survival of mankind in the future. I mean, we need the diversity, all the different kinds of plants material, to get food for the future. We have a lot of problems seeing us now. Climate change, environmental problems, and to tackle that, we need genetic variation. So in these remote mountains, this place is meant to be a safeguard against apocalypse, an insurance policy for a warming world. David Truckman, BBC News in Svalbard, in the Arctic.\n"
          ]
        }
      ]
    },
    {
      "cell_type": "code",
      "execution_count": 19,
      "metadata": {
        "colab": {
          "base_uri": "https://localhost:8080/"
        },
        "id": "-SVzzFLxHwHe",
        "outputId": "ba9b2893-a883-4da3-b541-ae46f425dc1e"
      },
      "outputs": [
        {
          "output_type": "stream",
          "name": "stdout",
          "text": [
            " This could be the most important minute of your day. We have been through difficult times and faced big problems ahead. But every crisis contains both danger and opportunity. Right now. Please close your eyes. Imagine the better future we could have. Imagine that future. What does it look like for you? How do we lift each other up and make it fair? How do we protect nature? And save our shared homes? Picture that after you've gone. Now open your eyes. It's time to talk about the future we want.\n"
          ]
        }
      ],
      "source": [
        "print(result[\"text\"])"
      ]
    },
    {
      "cell_type": "markdown",
      "metadata": {
        "id": "VMXGtcAuH5L2"
      },
      "source": [
        "## Non English Audio"
      ]
    },
    {
      "cell_type": "code",
      "execution_count": 30,
      "metadata": {
        "colab": {
          "base_uri": "https://localhost:8080/"
        },
        "id": "GQJabQ4OH4ln",
        "outputId": "f1066da9-78c1-4a0c-d91e-f09a04097477"
      },
      "outputs": [
        {
          "output_type": "stream",
          "name": "stdout",
          "text": [
            " 3. சய்தட்டுக் குறுடார் சடங்சு துணா 소�ல் இருக்கிறார் பரவர பான், சூப்பூன அழையில் கivali வobyக்கு ஊசனைíறி மந்ததில் ஏன்ற வேலை, கரணி பகாத்தொடுறார்ந்து தண்ணீர் தர மறுப்பது குரைத்து தமிழகரச் செல்கத் தரி செய்வுடிக்க Pandor 4. காவிரி வாழக்க்க ஏன்று சரணைக்க வரும் நிலை. காவிரி ஓடுங்காட்டுக்குடு ஒரு தலைபட்சமாக செயல்படுவதால் உசனிதி மன்னித்தம் சென்றுள்ளோம். காவிரி விவகாரத்தில் உசனிதி மன்னித்ததையே நம்பி உன்னதாகு அமைச்சர் திரை முருகன் விலக்க. நீத்தி மன்னித்தில் காவிரி மன்னித்தில் காவிரி ஓடுங்காட்டுக்குடு ஒரு தலைபட்சமாக செய்யல்படுவதால் உசனித்தி மன்னித்தம் சென்றுளோம். காவிரி விவகாரத்தில் உசனிதி மன்னித்ததற்கெய் நம்பி உன்னதாகு அமைச்சர் திரை முருகன் விலக்க. நீத்தி முதினிலைத் தேறுவின் கடாப்ப்மதிப் பெண்னைப் பூஜியமாகக் குரைத்தையும் மருத்துவைக் கோண்சில் முதனுளை மருத்துவைப் படிப்புக்கு நீட் தேர்வு எழுதினாலே கலந்தாய்வில் பங்கியிருக்கலாமேன அறிவிப்பு. 0 மதிப்பென் தகுதி மூலம் நீட் வுவகாரத்தில் மத்திரச்சின் சூர்ச்சி அம்பலமாக்கியுள்ளது. மதிப்பென்னை தேவையில்லாத முதனுளை நீட் தேரவு எதற்கு என அமைத்தர் உதையில் graveyard கேள்வி artificனையுக்கு அழுபியும். செஞ்ணைச் எங்கல் பpekிகாஞ்சிப்புரம் திருவள்ளுவில் மாவட்ட Trustees் முதல மைத்ரி என்யக் கலாய்வு.னரச்சி திட்டங்களின் செயல் பாடகிய நடகவல் பரiczத்திட அவ்வு விருத்துனகர் திண்டுக்கல் கடல் ஓளிட்ட மாவட்டங்களில் பரவலாக மடை துற்றுக்குடில் கணமடையால் சிரி வைக்குண்ட மறைக்கே கடைகளுக்குள் புகுந்த மடை நீயின நீலக்கிரி கோவை தேனி திண்டுக்கல் ஓளிட்ட 9 மாவட்டங்களில் 5 கணமடைக்கு வாய்ப்பு தமழகத்தை நிறுபத்து ஆரம்த்தெயிற்ற நிறை மடை துறும் அவ்வானிலேய், ஐவுமையைப் Grammy மக்கழிருக்கான personagemhip. Transform沒ப் பிறக்கத் துறிப்பதற்கப் பெயரினிcha பெரினியின் பெரிக்குடிப் பெற்ற மக்கழிருக்கின்ன மறு விரு வைக்குக்கல மக்கலவையைத் தொடர்ந்து மாணிலங்களை வையல் மக்கலிர் மக்கலிர் இடமுதல்கியின் சுத்தாக்க, ஒரு பெணர்களின் வவாதத் திருக்கப்ப் பின் மசோதாவை நிறைவையைச் சட்டமாக்க நடவு வழிக்க. மக்கலிர் இடமுதல்கியின் மசோதா வரலாச்சி சிறப்பமிக்க சட்டமனை பிரதமர் மோடி பிருமிதம். மக்கலவைய்ல் மகழிர் இடமுதல்கியின் மசோதாவைக்க ஆதரவாக வா carve கையம்பிக்கலக்க நன்றி. புதுச்செரியில் பல வேர் அரசத் துறைகளில் 322.0 கோடி துறைக்கும் 2,10,000 நிறுவைகளை 28 கோடின் இரு. இந்த்திய தணிக Sverுக்குயின் அறிக்க எல்தக வல், நாடலும் மன்று சட்ட மன்று ஒருப்பினர்கள்க்கான சட்ட பாதுகாப்பு வவகாரம் ஆயிரத்து தொலையிரத்து ஊட்டும் ஊட்டாம் ஆண்டு தீர்ப்பை மரு ஆயுசைய உச்சனிதி மன்றும் உத்தரவே உச்சனிதி மன்றும் திருதல ஆணையமுள்ளிட்ட அணைத்த அமைப்புகளுக்கும் நிறுக்கடி ஜனனாயகம் சமூகனிதிக்கான நிறுக்கடியை அரசியல் ரீதியாகத் தடுப்போம் என மோக்கச் தாளின் சூலுறை முதலமையிட்ட மோக்கச் தாளின் தென்னந்தியாவின் முக்கிய தலைவராகத்துக்கொடுகிறார் ஜனனாயகம் சமூகனிதியை விரத்திப் பிடிப்பதாகக் கமல்ஹாசன் புகடாரம் ஆதி மூக்கவின் பெயர், சின்னம் குடிய transplant.. module ஏங்கு டருக்கு மா஛ிப் சின்னம்!(OPS ஒகு உற்சமப்பர் சகஙா forward..) ஊபந்தில் ர branded மதிவுடனது பணிசாமі என்ற உளக்கு இன்சுொல்லதான வரை ao வரிவாகப் பணிகள்கான சாத்தியக் கூரு அறிக்கை, வடிதடத்தை நீட்டிப்பதற்கான சாத்தியக் கூரு அறிக்கை தமிழாகரசிடம் சமர்ப்பிப்பு. ஆசியை விளையாட்டு போட்டி மகலிர் கிருக்கேட் காலிருதி ஆட்டம் எந்தியா மலேஷயானிகள் இன்று காலைப் பல பரிச்சை.\n"
          ]
        }
      ],
      "source": [
        "URL = \"https://youtu.be/8Knn65nTO7o?si=wrJJS7CKuYpUNbyi\"#tamil video\n",
        "destination = \".\"\n",
        "final_filename = \"discours_ADO\"\n",
        "video_to_audio(URL, destination, final_filename)\n",
        "\n",
        "# Run the test\n",
        "audio_file = \"discours_ADO.mp3\"\n",
        "result_ADO = whisper_model.transcribe(audio_file)\n",
        "\n",
        "# Show the result\n",
        "print(result_ADO[\"text\"])"
      ]
    },
    {
      "cell_type": "code",
      "execution_count": null,
      "metadata": {
        "id": "dzIhw5KjH-Ug"
      },
      "outputs": [],
      "source": [
        "\n",
        "\n",
        "URL = \"https://www.youtube.com/watch?v=hnspzv8HUck\"\n",
        "final_filename = \"comic\"\n",
        "video_to_audio(URL, destination, final_filename)\n",
        "\n",
        "# Run the test\n",
        "audio_file = \"comic.mp3\"\n",
        "french_to_english = whisper_model.transcribe(audio_file, task = 'translate')\n",
        "\n",
        "# Show the result\n",
        "print(french_to_english[\"text\"])"
      ]
    },
    {
      "cell_type": "code",
      "execution_count": null,
      "metadata": {
        "id": "pZrJATbgbOdm"
      },
      "outputs": [],
      "source": [
        "print(str(french_to_english[\"text\"]))"
      ]
    },
    {
      "cell_type": "code",
      "execution_count": null,
      "metadata": {
        "id": "Pu2QbLNTbTjR"
      },
      "outputs": [],
      "source": []
    }
  ],
  "metadata": {
    "accelerator": "GPU",
    "colab": {
      "provenance": [],
      "gpuType": "T4"
    },
    "kernelspec": {
      "display_name": "Python 3",
      "name": "python3"
    },
    "language_info": {
      "name": "python"
    }
  },
  "nbformat": 4,
  "nbformat_minor": 0
}